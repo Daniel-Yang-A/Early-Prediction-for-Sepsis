{
 "cells": [
  {
   "cell_type": "code",
   "execution_count": 1,
   "metadata": {},
   "outputs": [],
   "source": [
    "import numpy as np\n",
    "import pandas as pd\n",
    "\n",
    "RELATIVE_PATH = \"x_all/\"\n",
    "\n",
    "ID = \"ID\"\n",
    "HOUR = \"Hour\"\n",
    "VARIABLE = \"Variable\"\n",
    "VALUE = \"Value\"\n",
    "OUTCOME = \"Outcome\""
   ]
  },
  {
   "attachments": {},
   "cell_type": "markdown",
   "metadata": {},
   "source": [
    "This file will merge all the feature values into one single table.\n",
    "\n",
    "Based on the assumption that the physiological status of the patients over consecutive time periods do not change significantly, forward fill is automatically operated for each patient. After that, backward fill is operated for each patient.\n",
    "\n",
    "Note: If the patient has at least one value of the feature, then all the\n",
    "values of that features of that patient is not NAN."
   ]
  },
  {
   "cell_type": "code",
   "execution_count": 2,
   "metadata": {},
   "outputs": [],
   "source": [
    "data = pd.DataFrame(columns=[\n",
    "    \"ID\", \"Age\", \"Gender\", \"Unit1\", \"Unit2\",\n",
    "    \"HR\", \"O2Sat\", \"Temp\", \"SBP\", \"MAP\", \"DBP\", \"Resp\", \"EtCO2\",\n",
    "    \"BaseExcess\", \"HCO3\", \"FiO2\", \"pH\", \"PaCO2\", \"SaO2\", \"AST\", \"BUN\",\n",
    "    \"Alkalinephos\", \"Calcium\", \"Chloride\", \"Creatinine\", \"Bilirubin_direct\",\n",
    "    \"Glucose\", \"Lactate\", \"Magnesium\", \"Phosphate\", \"Potassium\", \"Bilirubin_total\",\n",
    "    \"TroponinI\", \"Hct\", \"Hgb\", \"PTT\", \"WBC\", \"Fibrinogen\", \"Platelets\"\n",
    "])\n",
    "\n",
    "outcome = pd.read_csv(\"train_outcome.csv\")\n",
    "for cur_id in outcome[ID]:\n",
    "    file_path = RELATIVE_PATH + str(cur_id) + \".txt\"\n",
    "    cur_patient = pd.read_csv(file_path)\n",
    "\n",
    "    cur_max_hour = np.max(cur_patient[HOUR])\n",
    "    anchor_hour = np.arange(1, cur_max_hour + 1)\n",
    "    anchor_val = np.repeat(cur_id, cur_max_hour)\n",
    "    anchor_var = np.repeat(ID, cur_max_hour)\n",
    "    anchor = pd.DataFrame({HOUR: anchor_hour, VARIABLE: anchor_var, VALUE: anchor_val})\n",
    "    cur_patient = pd.concat([cur_patient, anchor])\n",
    "\n",
    "    cur_patient = cur_patient.pivot_table(index=HOUR, columns=VARIABLE, values=VALUE)\n",
    "    cur_patient = cur_patient.fillna(method=\"ffill\")\n",
    "    cur_patient = cur_patient.fillna(method=\"bfill\")\n",
    "\n",
    "    data = pd.concat([data, cur_patient])\n",
    "data.to_csv(\"x_train.csv\")"
   ]
  },
  {
   "attachments": {},
   "cell_type": "markdown",
   "metadata": {},
   "source": [
    "The above code will generate the training set and the following code will generate the test set."
   ]
  },
  {
   "cell_type": "code",
   "execution_count": 3,
   "metadata": {},
   "outputs": [],
   "source": [
    "data = pd.DataFrame(columns=[\n",
    "    \"ID\", \"Age\", \"Gender\", \"Unit1\", \"Unit2\",\n",
    "    \"HR\", \"O2Sat\", \"Temp\", \"SBP\", \"MAP\", \"DBP\", \"Resp\", \"EtCO2\",\n",
    "    \"BaseExcess\", \"HCO3\", \"FiO2\", \"pH\", \"PaCO2\", \"SaO2\", \"AST\", \"BUN\",\n",
    "    \"Alkalinephos\", \"Calcium\", \"Chloride\", \"Creatinine\", \"Bilirubin_direct\",\n",
    "    \"Glucose\", \"Lactate\", \"Magnesium\", \"Phosphate\", \"Potassium\", \"Bilirubin_total\",\n",
    "    \"TroponinI\", \"Hct\", \"Hgb\", \"PTT\", \"WBC\", \"Fibrinogen\", \"Platelets\"\n",
    "])\n",
    "\n",
    "outcome = pd.read_csv(\"test_nolabel.csv\")\n",
    "for cur_id in outcome[ID]:\n",
    "    file_path = RELATIVE_PATH + str(cur_id) + \".txt\"\n",
    "    cur_patient = pd.read_csv(file_path)\n",
    "\n",
    "    cur_max_hour = np.max(cur_patient[HOUR])\n",
    "    anchor_hour = np.arange(1, cur_max_hour + 1)\n",
    "    anchor_val = np.repeat(cur_id, cur_max_hour)\n",
    "    anchor_var = np.repeat(ID, cur_max_hour)\n",
    "    anchor = pd.DataFrame({HOUR: anchor_hour, VARIABLE: anchor_var, VALUE: anchor_val})\n",
    "    cur_patient = pd.concat([cur_patient, anchor])\n",
    "\n",
    "    cur_patient = cur_patient.pivot_table(index=HOUR, columns=VARIABLE, values=VALUE)\n",
    "    cur_patient = cur_patient.fillna(method=\"ffill\")\n",
    "    cur_patient = cur_patient.fillna(method=\"bfill\")\n",
    "\n",
    "    data = pd.concat([data, cur_patient])\n",
    "data.to_csv(\"x_test.csv\")"
   ]
  }
 ],
 "metadata": {
  "kernelspec": {
   "display_name": "python39",
   "language": "python",
   "name": "python3"
  },
  "language_info": {
   "codemirror_mode": {
    "name": "ipython",
    "version": 3
   },
   "file_extension": ".py",
   "mimetype": "text/x-python",
   "name": "python",
   "nbconvert_exporter": "python",
   "pygments_lexer": "ipython3",
   "version": "3.9.16"
  },
  "orig_nbformat": 4,
  "vscode": {
   "interpreter": {
    "hash": "3762c0b193775aa3f80012c2bae29670d2f4daae5e06c8ef41cc726f842ec41b"
   }
  }
 },
 "nbformat": 4,
 "nbformat_minor": 2
}
